{
 "cells": [
  {
   "cell_type": "markdown",
   "metadata": {},
   "source": [
    "# Weekly Task 2 - Roller Coaster Loops\n",
    "![wooo!](https://media.giphy.com/media/SNrC0OKr4YP2U/giphy.gif?cid=ecf05e47lnb8o893cghul7mragm4n7ric88y6ka94wp4r25f&rid=giphy.gif&ct=g)"
   ]
  },
  {
   "cell_type": "markdown",
   "metadata": {},
   "source": [
    "Remember the rules of ~Fight~ Code Club:\n",
    "1. ALWAYS DOCUMENT\n",
    "2. Cite resources that you use (paste links)\n",
    "3. Include the names people who you worked with\n",
    "4. Be neat and organized"
   ]
  },
  {
   "cell_type": "markdown",
   "metadata": {},
   "source": [
    "### 1.  Write a for loop that loops through your list of countries and does the following operations:\n",
    "#### 1. If that country starts with the letter c, it prints the name of that country\n",
    "#### 2. otherwise it adds 1 to a variable called \"count\""
   ]
  },
  {
   "cell_type": "code",
   "execution_count": null,
   "metadata": {},
   "outputs": [],
   "source": [
    "['Jamaica','Barbados','Canada','Italy','France','Russia','Mexico','Panama','Zimbabwe','United States of America']\n"
   ]
  },
  {
   "cell_type": "code",
   "execution_count": null,
   "metadata": {},
   "outputs": [],
   "source": [
    "print(['Jamaica','Barbados','Canada','Italy','France','Russia','Mexico','Panama','Zimbabwe','United States of America'])\n",
    "countries=['Jamaica','Barbados','Canada','Italy','France','Russia','Mexico','Panama','Zimbabwe','United States of America']"
   ]
  },
  {
   "cell_type": "code",
   "execution_count": null,
   "metadata": {},
   "outputs": [],
   "source": [
    "countries = ['Jamaica','Barbados','Canada','Italy','France','Russia','Mexico','Panama','Zimbabwe','United States of America\n",
    "             for i in countries:\n",
    "             if i.startswith('C'):\n",
    "              print('A state that start with C')\n",
    "                 count=0\n",
    "                 count=count+1\n",
    "             print(count)\n",
    "              \n",
    "             "
   ]
  },
  {
   "cell_type": "markdown",
   "metadata": {},
   "source": [
    "### 2.  Write a python script using a for loop and range function that prints numbers 20 through 160 by every 10 except 80."
   ]
  },
  {
   "cell_type": "code",
   "execution_count": null,
   "metadata": {},
   "outputs": [],
   "source": [
    "i=1\n",
    "if (numbers >20):\n",
    "    print('start')\n",
    "elif (numbers <160)\n",
    "    print('end')\n",
    "else:\n",
    "    while i > 20:\n",
    "    print(i)\n",
    "    i = i+10"
   ]
  },
  {
   "cell_type": "markdown",
   "metadata": {},
   "source": [
    "### 3. Write a while loop that calculates celsius to farenheit from 0 up to and including 38 celsius (hint: (32°F − 32) × 5/9 = 0°C)\n"
   ]
  },
  {
   "cell_type": "code",
   "execution_count": null,
   "metadata": {},
   "outputs": [],
   "source": [
    "while i > ((32F − 32) × 5/9 = 0C):\n",
    "    print(i)\n",
    "   "
   ]
  },
  {
   "cell_type": "markdown",
   "metadata": {},
   "source": [
    "### 4. Write a script with a nested for loop that prints out every month and then prints out the total days of the month. "
   ]
  },
  {
   "cell_type": "code",
   "execution_count": null,
   "metadata": {},
   "outputs": [],
   "source": [
    "AllMonths = ['January','February','March','April','May','June','July','August','September','October','November','December']\n",
    "Months31 = ['January','March','May','July','August','September','October','December']\n",
    "Months30 = ['September','April','June','November']\n",
    "Months28 = ['February']\n",
    "\n",
    "\n",
    "for i in (AllMonths):\n",
    "    if i in (Months31)\n",
    "        print (i,'is in Months31')\n",
    "    if i in (Months30)\n",
    "        print (i,'is in Months30')\n",
    "    if i in (Months28)\n",
    "        print (i,'is in Months28')\n",
    "    \n",
    "    "
   ]
  }
 ],
 "metadata": {
  "kernelspec": {
   "display_name": "Python 3",
   "language": "python",
   "name": "python3"
  },
  "language_info": {
   "codemirror_mode": {
    "name": "ipython",
    "version": 3
   },
   "file_extension": ".py",
   "mimetype": "text/x-python",
   "name": "python",
   "nbconvert_exporter": "python",
   "pygments_lexer": "ipython3",
   "version": "3.8.5"
  }
 },
 "nbformat": 4,
 "nbformat_minor": 4
}
